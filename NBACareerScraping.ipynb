{
 "cells": [
  {
   "cell_type": "markdown",
   "metadata": {},
   "source": [
    "# NBA Game Log Career Stats\n",
    "Data acquisition method -> Web Scraping"
   ]
  },
  {
   "cell_type": "markdown",
   "metadata": {},
   "source": [
    "The primary function of this script is to download an NBA players entire career game log (from 1994 and beyond), using a URL form ESPN NBA by searching the players name and selecting their 'game log' stats filter. Data collected consists of every game the player participated in during each year will be placed in CSV format for download with the players respective statistics during the time he was on the court. As of now, this script does not seperate stats from regular season and playoffs, which is a work in progress for the next iteration."
   ]
  },
  {
   "cell_type": "code",
   "execution_count": 68,
   "metadata": {},
   "outputs": [],
   "source": [
    "# Rafael Chavez\n",
    "# 7/11/21\n",
    "# Project 824, Owner\n",
    "\n",
    "import requests as req\n",
    "import pandas as pd\n",
    "import re\n",
    "from bs4 import BeautifulSoup\n",
    "\n",
    "stats_list = []\n",
    "playoff_headers = ['Conference Quarterfinals','Conference Semifinals','Conference Finals','Finals']\n",
    "playoff_headers_index= []\n",
    "yearly_career_stats = []\n",
    "\n",
    "    \n",
    "def request_url(player_stats_url):\n",
    "    stats_request_object = req.get(player_stats_url)\n",
    "        \n",
    "    return stats_request_object\n",
    "    \n",
    "def request_to_text_object(request_object):\n",
    "    stats_text_object = request_object.text\n",
    "        \n",
    "    return stats_text_object\n",
    "    \n",
    "    \n",
    "def create_bs_object(stats_text_object):\n",
    "    table_bs = BeautifulSoup(stats_text_object,'html5lib')\n",
    "    \n",
    "    return table_bs\n",
    "\n",
    "\n",
    "# When parsing for values from 'option' tags, i ran into an issue where a value\n",
    "# was being returned as 'Selected', which means i have to use RE to make sure its \n",
    "# not appended to my list of years played in the league. Meaning, i have to make sure\n",
    "# the string is composed only of digits\n",
    "def is_digits_only(dropdown_value):\n",
    "    if bool(re.match(r'^([\\s\\d]+)$', dropdown_value)) == True:\n",
    "        return True\n",
    "    else:\n",
    "        return False\n",
    "\n",
    "\n",
    "# Need to create a fxn which parses for the years available for a players career\n",
    "def get_career_years(bs_object):\n",
    "    years_played = []\n",
    "    list = bs_object.findAll('option')\n",
    "    for l in list: \n",
    "        if l.get('value') != None and is_digits_only(l.get('value')) == True:\n",
    "            years_played.append(int(l.get('value')))\n",
    "            \n",
    "    years_played.sort()\n",
    "    print(\"Game Log for the following years will be written to CSV:\")\n",
    "    print(\"--------------------------------------------------------\\n\")\n",
    "    print(years_played)\n",
    "    \n",
    "    return years_played\n",
    "\n",
    "\n",
    "def create_table_rows_object(table_bs):\n",
    "    stats_table_rows = table_bs.find_all('tr')\n",
    "    \n",
    "    return stats_table_rows\n",
    "\n",
    "\n",
    "def create_stats_list(stats_table_rows,stats_list):\n",
    "    i = 0\n",
    "    while i in range(0,len(stats_table_rows)):\n",
    "        stats_list.append([span.text for span in stats_table_rows[i]])\n",
    "        i +=1\n",
    "        \n",
    "    return stats_list\n",
    "\n",
    "\n",
    "def clean_career_stats(career_stats_list):\n",
    "    parsed_stats_list = []\n",
    "    all_player_games_stats = []\n",
    "    for i in range(len(career_stats_list)):\n",
    "        parsed_stats_list.append(re.search(r'(\\w+ \\d+/\\d+)',career_stats_list[i][0]))\n",
    "\n",
    "        if(parsed_stats_list[i] != None):\n",
    "            all_player_games_stats.append(stats_list[i])\n",
    "        \n",
    "    return all_player_games_stats\n",
    "    \n",
    "\n",
    "def return_column_headers(stats_list):\n",
    "    stat_column_headers = stats_list[0]\n",
    "    \n",
    "    return stat_column_headers\n",
    "\n",
    "\n",
    "def create_player_stats_list(stats_list,yearly_career_stats):\n",
    "    # Although i create an html object later, this one defaults to the players most recent season\n",
    "    # where I am still able to obtain every year the athlete competed in the NBA\n",
    "    player_stats_url = \"https://www.espn.com/nba/player/gamelog/_/id/6583/type/nba/year/\"\n",
    "    request_object = request_url(player_stats_url)\n",
    "    request_text_object = request_to_text_object(request_object)\n",
    "    bs_object = create_bs_object(request_text_object)\n",
    "    \n",
    "    # List containing every year the athlete competed in, used to iterate through\n",
    "    years_played = get_career_years(bs_object)\n",
    "    \n",
    "    for year in years_played:\n",
    "        player_stats_url = \"https://www.espn.com/nba/player/gamelog/_/id/3468/type/nba/year/\"\n",
    "        player_stats_url = player_stats_url + str(year)\n",
    "        print(player_stats_url)\n",
    "        request_object = request_url(player_stats_url)\n",
    "        request_text_object = request_to_text_object(request_object)\n",
    "        bs_object = create_bs_object(request_text_object)\n",
    "        table_rows = create_table_rows_object(bs_object)\n",
    "        season_stats = create_stats_list(table_rows,stats_list)\n",
    "        column_headers = return_column_headers(season_stats)\n",
    "        \n",
    "        cleaned_stats = clean_career_stats(season_stats)\n",
    "        df = pd.DataFrame(cleaned_stats, columns = column_headers)\n",
    "        df.to_csv('RusselWestbrookYear'+str(year))\n",
    "        stats_list.clear()\n",
    "    print(\"/nData has been successfully written to CSV format\")\n",
    "\n"
   ]
  },
  {
   "cell_type": "markdown",
   "metadata": {},
   "source": [
    "# Running Script\n",
    "Lets choose main method and run this shit\n"
   ]
  },
  {
   "cell_type": "code",
   "execution_count": 69,
   "metadata": {
    "scrolled": true
   },
   "outputs": [
    {
     "name": "stdout",
     "output_type": "stream",
     "text": [
      "Game Log for the following years will be written to CSV:\n",
      "--------------------------------------------------------\n",
      "\n",
      "[2013, 2014, 2015, 2016, 2017, 2018, 2019, 2020, 2021, 2022]\n",
      "https://www.espn.com/nba/player/gamelog/_/id/3468/type/nba/year/2013\n",
      "https://www.espn.com/nba/player/gamelog/_/id/3468/type/nba/year/2014\n",
      "https://www.espn.com/nba/player/gamelog/_/id/3468/type/nba/year/2015\n",
      "https://www.espn.com/nba/player/gamelog/_/id/3468/type/nba/year/2016\n",
      "https://www.espn.com/nba/player/gamelog/_/id/3468/type/nba/year/2017\n",
      "https://www.espn.com/nba/player/gamelog/_/id/3468/type/nba/year/2018\n",
      "https://www.espn.com/nba/player/gamelog/_/id/3468/type/nba/year/2019\n",
      "https://www.espn.com/nba/player/gamelog/_/id/3468/type/nba/year/2020\n",
      "https://www.espn.com/nba/player/gamelog/_/id/3468/type/nba/year/2021\n",
      "https://www.espn.com/nba/player/gamelog/_/id/3468/type/nba/year/2022\n",
      "/nData has been successfully written to CSV format\n"
     ]
    }
   ],
   "source": [
    "player_career_stats = create_player_stats_list(stats_list,yearly_career_stats,)\n",
    "player_career_stats\n"
   ]
  },
  {
   "cell_type": "markdown",
   "metadata": {},
   "source": [
    "# Idea: Select top 15 players of all time, create data sets for each one, and use interesting analytics to calculate for each one and then create an easy to read, enjoyable format to send to twitter which makes good tweets for settling/igniting barber shop talk on who the goat is (kobe)."
   ]
  },
  {
   "cell_type": "markdown",
   "metadata": {},
   "source": [
    "# Idea 2: Provide user input of a link to webscrape, meaning on the backend of the app we need to make sure its a valid URL from ESPN. What we can do is have the user be able to download the CSV formatted season statistics. "
   ]
  },
  {
   "cell_type": "markdown",
   "metadata": {},
   "source": [
    "# -------------"
   ]
  },
  {
   "cell_type": "markdown",
   "metadata": {},
   "source": [
    "# Lets analyze player stats for once, still havent gotten that even STARTED"
   ]
  },
  {
   "cell_type": "markdown",
   "metadata": {},
   "source": [
    "SIMPLE STATS, PPG, LAST 20 GAMES PPG, FIRST 20 GAMES PPG, MIDDLE 20 PPG"
   ]
  },
  {
   "cell_type": "markdown",
   "metadata": {},
   "source": [
    "GOING TO CONTINUE THIS IN A DIFFERENT PAGE"
   ]
  },
  {
   "cell_type": "code",
   "execution_count": 63,
   "metadata": {},
   "outputs": [
    {
     "name": "stdout",
     "output_type": "stream",
     "text": [
      "Total Games Played: 95\n",
      "First 20 PPG: 33.81\n",
      "Middle 20 PPG: 25.70\n",
      "Last 20 PPG: 28.84\n",
      "[48, 50, 50, 54, 57, 57, 58, 58, 61, 61]\n"
     ]
    }
   ],
   "source": [
    "# obtain dataframe\n",
    "import statistics as stats\n",
    "import math\n",
    "\n",
    "\n",
    "def csv_to_df(csv):\n",
    "    player_season_df = pd.read_csv(csv)\n",
    "    return player_season_df\n",
    "\n",
    "def player_season_dataframe(player_df):\n",
    "    player_season = player_df\n",
    "    \n",
    "    return player_season\n",
    "\n",
    "def player_points(player_season):\n",
    "    points_list = player_season[\"PTS\"].tolist()\n",
    "    \n",
    "    return points_list\n",
    "    \n",
    "def first_twenty(points_list):\n",
    "    first_twenty = \"{:.2f}\".format(stats.mean(points_list[0:21]))\n",
    "    print(\"First 20 PPG: \" + str(first_twenty))\n",
    "    \n",
    "def middle_twenty(points_list):\n",
    "    middle_index = math.ceil(len(points_list))\n",
    "    middle_twenty = \"{:.2f}\".format(stats.mean(points_list[middle_index-10:middle_index+10]))\n",
    "    print(\"Middle 20 PPG: \" + str(middle_twenty))\n",
    "    \n",
    "def last_twenty(points_list):\n",
    "    last_twenty = \"{:.2f}\".format(stats.mean(points_list[-20:-1]))\n",
    "    print(\"Last 20 PPG: \" + str(last_twenty))\n",
    "    \n",
    "# Top 10 scoring totals of season\n",
    "def top_ten_games(points):\n",
    "    n = 10\n",
    "    ascending_list = sorted(points)\n",
    "    top_10 = ascending_list[-10:]\n",
    "    print(top_10)\n",
    "    \n",
    "    \n",
    "# create points list    \n",
    "p_df = csv_to_df('JamesHardenYear2019')\n",
    "points = player_points(p_df)\n",
    "print(\"Total Games Played: \" + str(len(points)))\n",
    "\n",
    "# First 20 game PPG avg\n",
    "first_20_points = first_twenty(points)\n",
    "first_20_points\n",
    "\n",
    "# Middle 20 (rough estimate)\n",
    "middle_twenty = middle_twenty(points)\n",
    "middle_twenty\n",
    "\n",
    "# Last 20 game PPG avg\n",
    "last_twenty(points)\n",
    "last_twenty\n",
    "\n",
    "top_10 = top_ten_games(points)\n",
    "top_10\n",
    "\n",
    "\n",
    "\n",
    "\n"
   ]
  },
  {
   "cell_type": "code",
   "execution_count": null,
   "metadata": {},
   "outputs": [],
   "source": []
  }
 ],
 "metadata": {
  "kernelspec": {
   "display_name": "Python 3",
   "language": "python",
   "name": "python3"
  },
  "language_info": {
   "codemirror_mode": {
    "name": "ipython",
    "version": 3
   },
   "file_extension": ".py",
   "mimetype": "text/x-python",
   "name": "python",
   "nbconvert_exporter": "python",
   "pygments_lexer": "ipython3",
   "version": "3.8.5"
  }
 },
 "nbformat": 4,
 "nbformat_minor": 4
}
