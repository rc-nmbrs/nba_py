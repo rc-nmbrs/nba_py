{
 "cells": [
  {
   "cell_type": "code",
   "execution_count": 3,
   "metadata": {},
   "outputs": [],
   "source": [
    "import numpy as np\n",
    "import math"
   ]
  },
  {
   "cell_type": "code",
   "execution_count": 3,
   "metadata": {},
   "outputs": [
    {
     "name": "stdout",
     "output_type": "stream",
     "text": [
      "[1 2 3]\n",
      "1\n"
     ]
    }
   ],
   "source": [
    "# Declaring an array (or single row matrix) with 3 items in a list\n",
    "a = np.array([1,2,3])\n",
    "print(a)\n",
    "print(a.ndim) # The # of dimensions the array has"
   ]
  },
  {
   "cell_type": "code",
   "execution_count": 31,
   "metadata": {},
   "outputs": [
    {
     "name": "stdout",
     "output_type": "stream",
     "text": [
      "[[1 3]\n",
      " [4 5]\n",
      " [5 8]]\n",
      "2\n"
     ]
    }
   ],
   "source": [
    "# Return number of dimension of an array (1D and 2D is most likely what i'll be using)\n",
    "b = np.array([[1,3],[4,5],[5,8]])\n",
    "print(b.ndim)"
   ]
  },
  {
   "cell_type": "code",
   "execution_count": 32,
   "metadata": {},
   "outputs": [
    {
     "data": {
      "text/plain": [
       "(3, 2)"
      ]
     },
     "execution_count": 32,
     "metadata": {},
     "output_type": "execute_result"
    }
   ],
   "source": [
    "# Number of rows by number of columns\n",
    "b.shape "
   ]
  },
  {
   "cell_type": "code",
   "execution_count": 7,
   "metadata": {},
   "outputs": [
    {
     "data": {
      "text/plain": [
       "dtype('int64')"
      ]
     },
     "execution_count": 7,
     "metadata": {},
     "output_type": "execute_result"
    }
   ],
   "source": [
    "a.dtype"
   ]
  },
  {
   "cell_type": "code",
   "execution_count": 8,
   "metadata": {},
   "outputs": [
    {
     "data": {
      "text/plain": [
       "'float64'"
      ]
     },
     "execution_count": 8,
     "metadata": {},
     "output_type": "execute_result"
    }
   ],
   "source": [
    "c = np.array([2.2,2.4])\n",
    "c.dtype.name"
   ]
  },
  {
   "cell_type": "code",
   "execution_count": 10,
   "metadata": {},
   "outputs": [
    {
     "name": "stdout",
     "output_type": "stream",
     "text": [
      "[[0. 0. 0.]\n",
      " [0. 0. 0.]]\n",
      "[[1. 1. 1.]\n",
      " [1. 1. 1.]]\n"
     ]
    }
   ],
   "source": [
    "# Creating array size placeholders\n",
    "\n",
    "# Creates array filled with zeros\n",
    "d = np.zeros((2,3))\n",
    "print()\n",
    "print(d)\n",
    "\n",
    "# Fills array with ones\n",
    "e = np.ones((2,3))\n",
    "print(e)"
   ]
  },
  {
   "cell_type": "code",
   "execution_count": 33,
   "metadata": {},
   "outputs": [
    {
     "data": {
      "text/plain": [
       "array([[0.18276555, 0.71334898, 0.81268889, 0.71270097, 0.52969618],\n",
       "       [0.0088931 , 0.5435837 , 0.30844348, 0.61249541, 0.30450969],\n",
       "       [0.81122156, 0.18116219, 0.34928925, 0.38037177, 0.58245853],\n",
       "       [0.48327732, 0.48101196, 0.01710397, 0.60077723, 0.2528359 ]])"
      ]
     },
     "execution_count": 33,
     "metadata": {},
     "output_type": "execute_result"
    }
   ],
   "source": [
    "# random numbers filled in an array\n",
    "\n",
    "# rand(number_of_rows,number_of_columns)\n",
    "np.random.rand(4,5)"
   ]
  },
  {
   "cell_type": "code",
   "execution_count": 13,
   "metadata": {},
   "outputs": [
    {
     "data": {
      "text/plain": [
       "array([10, 12, 14, 16, 18, 20, 22, 24, 26, 28, 30, 32, 34, 36, 38, 40, 42,\n",
       "       44, 46, 48])"
      ]
     },
     "execution_count": 13,
     "metadata": {},
     "output_type": "execute_result"
    }
   ],
   "source": [
    "# Create an array of every even number from ten inclusive to fifty exclusive\n",
    "f = np.arange(10,50,2)\n",
    "f"
   ]
  },
  {
   "cell_type": "code",
   "execution_count": 15,
   "metadata": {},
   "outputs": [
    {
     "data": {
      "text/plain": [
       "array([0.        , 0.57142857, 1.14285714, 1.71428571, 2.28571429,\n",
       "       2.85714286, 3.42857143, 4.        ])"
      ]
     },
     "execution_count": 15,
     "metadata": {},
     "output_type": "execute_result"
    }
   ],
   "source": [
    "# generating an evenly spaced set of floats between a specific range, where the third parameter \n",
    "# defines how many items you want in an array\n",
    "np.linspace(0,4,8)"
   ]
  },
  {
   "cell_type": "markdown",
   "metadata": {},
   "source": [
    "Array Operations"
   ]
  },
  {
   "cell_type": "code",
   "execution_count": 16,
   "metadata": {},
   "outputs": [
    {
     "name": "stdout",
     "output_type": "stream",
     "text": [
      "[ 9 18 27 36]\n",
      "[ 10  40  90 160]\n"
     ]
    }
   ],
   "source": [
    "# Arithmetic operators on array apply alementwise\n",
    "a = np.array([10,20,30,40])\n",
    "b = np.array([1,2,3,4])\n",
    "\n",
    "# Subtracts each element from list b from list a, with matching indexes\n",
    "c = a-b\n",
    "print(c)\n",
    "\n",
    "d = a*b\n",
    "print(d)"
   ]
  },
  {
   "cell_type": "code",
   "execution_count": 35,
   "metadata": {},
   "outputs": [
    {
     "name": "stdout",
     "output_type": "stream",
     "text": [
      "[-17.22222222 -22.77777778 -20.         -25.55555556 -17.22222222]\n"
     ]
    }
   ],
   "source": [
    "# An applied example of using arithmetic formulas on arrays in an iterative manner\n",
    "farenheit = np.array([0,-10,-5,-15,0])\n",
    "\n",
    "celcius = (farenheit - 31)*(5/9)\n",
    "print(celcius)"
   ]
  },
  {
   "cell_type": "code",
   "execution_count": 36,
   "metadata": {},
   "outputs": [
    {
     "name": "stdout",
     "output_type": "stream",
     "text": [
      "[ True False  True False  True]\n"
     ]
    }
   ],
   "source": [
    "# You can provide boolean responses for an array to scan if a specific logical expression is met\n",
    "print(celcius > -21)\n",
    "# This is called elementwise manipulation"
   ]
  },
  {
   "cell_type": "code",
   "execution_count": 21,
   "metadata": {},
   "outputs": [
    {
     "name": "stdout",
     "output_type": "stream",
     "text": [
      "[[ 7 12]\n",
      " [ 9 12]]\n"
     ]
    }
   ],
   "source": [
    "# Numpy also supports matrix manipulation\n",
    "# dot product of matrices is denoted via the @ sign\n",
    "\n",
    "A = np.array([[1,2],[0,3]])\n",
    "B = np.array([[1,4],[3,4]])\n",
    "\n",
    "print(A@B)"
   ]
  },
  {
   "cell_type": "code",
   "execution_count": 22,
   "metadata": {},
   "outputs": [
    {
     "data": {
      "text/plain": [
       "(2, 2)"
      ]
     },
     "execution_count": 22,
     "metadata": {},
     "output_type": "execute_result"
    }
   ],
   "source": [
    "# Check shape of matrices\n",
    "A.shape\n",
    "B.shape"
   ]
  },
  {
   "cell_type": "markdown",
   "metadata": {},
   "source": [
    "Indexing, Slicing and Iterating"
   ]
  },
  {
   "cell_type": "markdown",
   "metadata": {},
   "source": [
    "Integer Indexing"
   ]
  },
  {
   "cell_type": "code",
   "execution_count": 23,
   "metadata": {},
   "outputs": [],
   "source": [
    "a = np.array([1,2,4,5])"
   ]
  },
  {
   "cell_type": "code",
   "execution_count": 24,
   "metadata": {},
   "outputs": [
    {
     "data": {
      "text/plain": [
       "4"
      ]
     },
     "execution_count": 24,
     "metadata": {},
     "output_type": "execute_result"
    }
   ],
   "source": [
    "a[2]"
   ]
  },
  {
   "cell_type": "code",
   "execution_count": 25,
   "metadata": {},
   "outputs": [
    {
     "data": {
      "text/plain": [
       "array([[1, 3],\n",
       "       [4, 5],\n",
       "       [4, 9]])"
      ]
     },
     "execution_count": 25,
     "metadata": {},
     "output_type": "execute_result"
    }
   ],
   "source": [
    "a = np.array([[1,3],[4,5],[4,9]])\n",
    "a"
   ]
  },
  {
   "cell_type": "code",
   "execution_count": 26,
   "metadata": {},
   "outputs": [
    {
     "data": {
      "text/plain": [
       "5"
      ]
     },
     "execution_count": 26,
     "metadata": {},
     "output_type": "execute_result"
    }
   ],
   "source": [
    "# Returns item at index [1,1]\n",
    "a[1,1]"
   ]
  },
  {
   "cell_type": "markdown",
   "metadata": {},
   "source": [
    "Boolean Indexing"
   ]
  },
  {
   "cell_type": "code",
   "execution_count": 27,
   "metadata": {},
   "outputs": [
    {
     "name": "stdout",
     "output_type": "stream",
     "text": [
      "[[False False]\n",
      " [ True  True]\n",
      " [ True  True]]\n"
     ]
    }
   ],
   "source": [
    "print(a>3)"
   ]
  },
  {
   "cell_type": "code",
   "execution_count": 28,
   "metadata": {},
   "outputs": [
    {
     "name": "stdout",
     "output_type": "stream",
     "text": [
      "[4 5 4 9]\n"
     ]
    }
   ],
   "source": [
    "# Returns an array with all values which are greater than 3 in the multi dimensional \n",
    "# matrix\n",
    "# this is called boolean masking\n",
    "\n",
    "print(a[a>3])"
   ]
  },
  {
   "cell_type": "markdown",
   "metadata": {},
   "source": [
    "Slicing"
   ]
  },
  {
   "cell_type": "code",
   "execution_count": 37,
   "metadata": {},
   "outputs": [],
   "source": [
    "# Slicing for multiple dimensional arrays\n",
    "a = np.array([[1,3,5],[4,5,6],[8,8,8]])"
   ]
  },
  {
   "cell_type": "code",
   "execution_count": 38,
   "metadata": {},
   "outputs": [
    {
     "data": {
      "text/plain": [
       "array([[1, 3, 5],\n",
       "       [4, 5, 6],\n",
       "       [8, 8, 8]])"
      ]
     },
     "execution_count": 38,
     "metadata": {},
     "output_type": "execute_result"
    }
   ],
   "source": [
    "a"
   ]
  },
  {
   "cell_type": "code",
   "execution_count": 39,
   "metadata": {},
   "outputs": [
    {
     "data": {
      "text/plain": [
       "array([[1, 3, 5],\n",
       "       [4, 5, 6]])"
      ]
     },
     "execution_count": 39,
     "metadata": {},
     "output_type": "execute_result"
    }
   ],
   "source": [
    "# Displays first two rows\n",
    "a[:2]"
   ]
  },
  {
   "cell_type": "code",
   "execution_count": 41,
   "metadata": {},
   "outputs": [
    {
     "data": {
      "text/plain": [
       "array([[3, 5]])"
      ]
     },
     "execution_count": 41,
     "metadata": {},
     "output_type": "execute_result"
    }
   ],
   "source": [
    "# Returns first row, and columns 1-2 @ indeces 1/2\n",
    "a[:1,1:3]"
   ]
  },
  {
   "cell_type": "code",
   "execution_count": 46,
   "metadata": {},
   "outputs": [
    {
     "name": "stdout",
     "output_type": "stream",
     "text": [
      "             action_type combined_shot_type  game_event_id   game_id      lat  \\\n",
      "0              Jump Shot          Jump Shot             10  20000012  33.9723   \n",
      "1              Jump Shot          Jump Shot             12  20000012  34.0443   \n",
      "2              Jump Shot          Jump Shot             35  20000012  33.9093   \n",
      "3              Jump Shot          Jump Shot             43  20000012  33.8693   \n",
      "4      Driving Dunk Shot               Dunk            155  20000012  34.0443   \n",
      "...                  ...                ...            ...       ...      ...   \n",
      "30692          Jump Shot          Jump Shot            397  49900088  33.9963   \n",
      "30693           Tip Shot           Tip Shot            398  49900088  34.0443   \n",
      "30694  Running Jump Shot          Jump Shot            426  49900088  33.8783   \n",
      "30695          Jump Shot          Jump Shot            448  49900088  33.7773   \n",
      "30696          Jump Shot          Jump Shot            471  49900088  33.9723   \n",
      "\n",
      "       loc_x  loc_y       lon  minutes_remaining  period  ...       shot_type  \\\n",
      "0        167     72 -118.1028                 10       1  ...  2PT Field Goal   \n",
      "1       -157      0 -118.4268                 10       1  ...  2PT Field Goal   \n",
      "2       -101    135 -118.3708                  7       1  ...  2PT Field Goal   \n",
      "3        138    175 -118.1318                  6       1  ...  2PT Field Goal   \n",
      "4          0      0 -118.2698                  6       2  ...  2PT Field Goal   \n",
      "...      ...    ...       ...                ...     ...  ...             ...   \n",
      "30692      1     48 -118.2688                  6       4  ...  2PT Field Goal   \n",
      "30693      0      0 -118.2698                  6       4  ...  2PT Field Goal   \n",
      "30694   -134    166 -118.4038                  3       4  ...  2PT Field Goal   \n",
      "30695     31    267 -118.2388                  2       4  ...  3PT Field Goal   \n",
      "30696      1     72 -118.2688                  0       4  ...  2PT Field Goal   \n",
      "\n",
      "              shot_zone_area        shot_zone_basic  shot_zone_range  \\\n",
      "0              Right Side(R)              Mid-Range        16-24 ft.   \n",
      "1               Left Side(L)              Mid-Range         8-16 ft.   \n",
      "2       Left Side Center(LC)              Mid-Range        16-24 ft.   \n",
      "3      Right Side Center(RC)              Mid-Range        16-24 ft.   \n",
      "4                  Center(C)        Restricted Area  Less Than 8 ft.   \n",
      "...                      ...                    ...              ...   \n",
      "30692              Center(C)  In The Paint (Non-RA)  Less Than 8 ft.   \n",
      "30693              Center(C)        Restricted Area  Less Than 8 ft.   \n",
      "30694   Left Side Center(LC)              Mid-Range        16-24 ft.   \n",
      "30695              Center(C)      Above the Break 3          24+ ft.   \n",
      "30696              Center(C)  In The Paint (Non-RA)  Less Than 8 ft.   \n",
      "\n",
      "          team_id           team_name game_date      matchup opponent  shot_id  \n",
      "0      1610612747  Los Angeles Lakers  10/31/00    LAL @ POR      POR        1  \n",
      "1      1610612747  Los Angeles Lakers  10/31/00    LAL @ POR      POR        2  \n",
      "2      1610612747  Los Angeles Lakers  10/31/00    LAL @ POR      POR        3  \n",
      "3      1610612747  Los Angeles Lakers  10/31/00    LAL @ POR      POR        4  \n",
      "4      1610612747  Los Angeles Lakers  10/31/00    LAL @ POR      POR        5  \n",
      "...           ...                 ...       ...          ...      ...      ...  \n",
      "30692  1610612747  Los Angeles Lakers   6/19/00  LAL vs. IND      IND    30693  \n",
      "30693  1610612747  Los Angeles Lakers   6/19/00  LAL vs. IND      IND    30694  \n",
      "30694  1610612747  Los Angeles Lakers   6/19/00  LAL vs. IND      IND    30695  \n",
      "30695  1610612747  Los Angeles Lakers   6/19/00  LAL vs. IND      IND    30696  \n",
      "30696  1610612747  Los Angeles Lakers   6/19/00  LAL vs. IND      IND    30697  \n",
      "\n",
      "[30697 rows x 25 columns]\n"
     ]
    }
   ],
   "source": [
    "# Multidimensional arrays, the first argument is for selecting rows and the second argument\n",
    "# is for selecting columns\n",
    "import pandas as pd\n",
    "\n",
    "df = pd.read_csv('kobe_shot_selection.csv')\n",
    "print(df)"
   ]
  },
  {
   "cell_type": "code",
   "execution_count": 12,
   "metadata": {},
   "outputs": [
    {
     "data": {
      "text/plain": [
       "array([[ 1,  2,  3,  4,  5],\n",
       "       [ 6,  7,  8,  9, 10],\n",
       "       [11, 12, 13, 14, 15]])"
      ]
     },
     "execution_count": 12,
     "metadata": {},
     "output_type": "execute_result"
    }
   ],
   "source": [
    "# Create a generated array (single dimension), and reshape to 3x5\n",
    "arranged_array = np.arange(1,16,1).reshape(3,5)\n",
    "arranged_array"
   ]
  },
  {
   "cell_type": "code",
   "execution_count": 1,
   "metadata": {},
   "outputs": [
    {
     "data": {
      "text/plain": [
       "[1.725]"
      ]
     },
     "execution_count": 1,
     "metadata": {},
     "output_type": "execute_result"
    }
   ],
   "source": [
    "dollars = 3.45\n",
    "tax = 0.5\n",
    "tax_in_cents = [dollars*tax]\n",
    "tax_in_cents"
   ]
  },
  {
   "cell_type": "code",
   "execution_count": 3,
   "metadata": {},
   "outputs": [
    {
     "data": {
      "text/plain": [
       "[1.4544]"
      ]
     },
     "execution_count": 3,
     "metadata": {},
     "output_type": "execute_result"
    }
   ],
   "source": [
    "dollar_amount = 24.24\n",
    "tax_rate = 0.06\n",
    "tax_amount = [dollar_amount*tax_rate]\n",
    "tax_amount"
   ]
  },
  {
   "cell_type": "code",
   "execution_count": 15,
   "metadata": {},
   "outputs": [
    {
     "data": {
      "text/plain": [
       "['A', 'J', 'K', 'A', 7, 'K', 'K', 'Q', 10, 6, 'Q', 5, 'J', 1]"
      ]
     },
     "execution_count": 15,
     "metadata": {},
     "output_type": "execute_result"
    }
   ],
   "source": [
    "import random\n",
    "\n",
    "deck =['A',1,2,3,4,5,6,7,8,9,10,'J','K','Q']\n",
    "\n",
    "def shuffle_deck(deck):\n",
    "    shuffled_deck =[]\n",
    "    i = 0\n",
    "    while i in range(0,len(deck)):\n",
    "        shuffled_deck.append(deck[random.randint(0,len(deck)-1)])\n",
    "        i +=1\n",
    "    return shuffled_deck\n",
    "\n",
    "\n",
    "shuffle_deck(deck)\n",
    "    \n"
   ]
  },
  {
   "cell_type": "code",
   "execution_count": null,
   "metadata": {},
   "outputs": [],
   "source": []
  },
  {
   "cell_type": "code",
   "execution_count": null,
   "metadata": {},
   "outputs": [],
   "source": []
  }
 ],
 "metadata": {
  "kernelspec": {
   "display_name": "Python 3",
   "language": "python",
   "name": "python3"
  },
  "language_info": {
   "codemirror_mode": {
    "name": "ipython",
    "version": 3
   },
   "file_extension": ".py",
   "mimetype": "text/x-python",
   "name": "python",
   "nbconvert_exporter": "python",
   "pygments_lexer": "ipython3",
   "version": "3.8.5"
  }
 },
 "nbformat": 4,
 "nbformat_minor": 4
}
