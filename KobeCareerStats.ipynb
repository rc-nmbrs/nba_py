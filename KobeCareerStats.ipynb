{
 "cells": [
  {
   "cell_type": "markdown",
   "metadata": {},
   "source": [
    "# Kobe Career Stats, Web Scraping"
   ]
  },
  {
   "cell_type": "markdown",
   "metadata": {},
   "source": [
    "Create URL's for every year kobe played in the NBA (1996-2016)"
   ]
  },
  {
   "cell_type": "code",
   "execution_count": 5,
   "metadata": {},
   "outputs": [],
   "source": [
    "# Rafael Chavez\n",
    "# 7/11/21\n",
    "# Project 824, Owner\n",
    "\n",
    "import requests as req\n",
    "import pandas as pd\n",
    "import re\n",
    "from bs4 import BeautifulSoup\n",
    "\n",
    "stats_list = []\n",
    "playoff_headers = ['Conference Quarterfinals','Conference Semifinals','Conference Finals','Finals']\n",
    "playoff_headers_index= []\n",
    "yearly_career_stats = []\n",
    "\n",
    "    \n",
    "def request_url(player_stats_url):\n",
    "        stats_request_object = req.get(player_stats_url)\n",
    "        \n",
    "        return stats_request_object\n",
    "    \n",
    "def request_to_text_object(request_object):\n",
    "        stats_text_object = request_object.text\n",
    "        \n",
    "        return stats_text_object\n",
    "    \n",
    "    \n",
    "def create_bs_object(stats_text_object):\n",
    "    table_bs = BeautifulSoup(stats_text_object,'html5lib')\n",
    "    \n",
    "    return table_bs\n",
    "\n",
    "# Need to create a fxn which parses for the years available for a players career\n",
    "\n",
    "def get_career_years(bs_object):\n",
    "    years_played = []\n",
    "    list = bs_object.findAll('option')\n",
    "    for l in list: \n",
    "        if l.get('value') != None:\n",
    "            years_played.append(int(l.get('value')))\n",
    "            \n",
    "    years_played.sort()\n",
    "    print(years_played)\n",
    "    \n",
    "    return years_played\n",
    "\n",
    "\n",
    "def create_table_rows_object(table_bs):\n",
    "    stats_table_rows = table_bs.find_all('tr')\n",
    "    \n",
    "    return stats_table_rows\n",
    "\n",
    "\n",
    "def create_stats_list(stats_table_rows,stats_list):\n",
    "    i = 0\n",
    "    while i in range(0,len(stats_table_rows)):\n",
    "        stats_list.append([span.text for span in stats_table_rows[i]])\n",
    "        i +=1\n",
    "        \n",
    "    return stats_list\n",
    "\n",
    "def clean_career_stats(career_stats_list):\n",
    "    parsed_stats_list = []\n",
    "    all_player_games_stats = []\n",
    "    for i in range(len(career_stats_list)):\n",
    "        parsed_stats_list.append(re.search(r'(\\w+ \\d+/\\d+)',career_stats_list[i][0]))\n",
    "\n",
    "        if(parsed_stats_list[i] != None):\n",
    "        \n",
    "            #print(re_match[j])\n",
    "            all_player_games_stats.append(stats_list[i])\n",
    "        \n",
    "    return all_player_games_stats\n",
    "    \n",
    "\n",
    "\n",
    "def return_column_headers(stats_list):\n",
    "    stat_column_headers = stats_list[0]\n",
    "    \n",
    "    return stat_column_headers\n",
    "\n",
    "\n",
    "\n",
    "def create_player_stats_list(stats_list,yearly_career_stats):\n",
    "    # Although i create an html object later, this one defaults to the players most recent season\n",
    "    # where I am still able to obtain every year the athlete competed in the NBA\n",
    "    player_stats_url = \"https://www.espn.com/nba/player/gamelog/_/id/110/type/nba/year/\"\n",
    "    request_object = request_url(player_stats_url)\n",
    "    request_text_object = request_to_text_object(request_object)\n",
    "    bs_object = create_bs_object(request_text_object)\n",
    "    \n",
    "    # List containing every year the athlete competed in, used to iterate through\n",
    "    years_played = get_career_years(bs_object)\n",
    "    \n",
    "    for year in years_played:\n",
    "        player_stats_url = \"https://www.espn.com/nba/player/gamelog/_/id/110/type/nba/year/\" + str(year)\n",
    "        request_object = request_url(player_stats_url)\n",
    "        request_text_object = request_to_text_object(request_object)\n",
    "        bs_object = create_bs_object(request_text_object)\n",
    "        table_rows = create_table_rows_object(bs_object)\n",
    "        season_stats = create_stats_list(table_rows,stats_list)\n",
    "        column_headers = return_column_headers(season_stats)\n",
    "        \n",
    "        cleaned_stats = clean_career_stats(season_stats)\n",
    "        df = pd.DataFrame(cleaned_stats, columns = column_headers)\n",
    "        df.to_csv('KobeYearCopy'+str(year))\n",
    "        stats_list.clear()\n",
    "\n"
   ]
  },
  {
   "cell_type": "markdown",
   "metadata": {},
   "source": [
    "# Running Script\n",
    "Lets choose main method and run this shit\n"
   ]
  },
  {
   "cell_type": "code",
   "execution_count": 6,
   "metadata": {
    "scrolled": true
   },
   "outputs": [
    {
     "name": "stdout",
     "output_type": "stream",
     "text": [
      "[1997, 1998, 1999, 2000, 2001, 2002, 2003, 2004, 2005, 2006, 2007, 2008, 2009, 2010, 2011, 2012, 2013, 2014, 2015, 2016]\n"
     ]
    }
   ],
   "source": [
    "player_career_stats = create_player_stats_list(stats_list,yearly_career_stats,)\n",
    "player_career_stats\n"
   ]
  }
 ],
 "metadata": {
  "kernelspec": {
   "display_name": "Python 3",
   "language": "python",
   "name": "python3"
  },
  "language_info": {
   "codemirror_mode": {
    "name": "ipython",
    "version": 3
   },
   "file_extension": ".py",
   "mimetype": "text/x-python",
   "name": "python",
   "nbconvert_exporter": "python",
   "pygments_lexer": "ipython3",
   "version": "3.8.5"
  }
 },
 "nbformat": 4,
 "nbformat_minor": 4
}
