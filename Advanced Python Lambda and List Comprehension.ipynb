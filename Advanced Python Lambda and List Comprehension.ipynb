{
 "cells": [
  {
   "cell_type": "markdown",
   "metadata": {},
   "source": [
    "Advanced Python Lambda and List Comprehensions"
   ]
  },
  {
   "cell_type": "markdown",
   "metadata": {},
   "source": [
    "Lambad = anonymous functions"
   ]
  },
  {
   "cell_type": "code",
   "execution_count": 1,
   "metadata": {},
   "outputs": [],
   "source": [
    "my_function = lambda a,b,c : a + b"
   ]
  },
  {
   "cell_type": "code",
   "execution_count": 3,
   "metadata": {},
   "outputs": [
    {
     "data": {
      "text/plain": [
       "6"
      ]
     },
     "execution_count": 3,
     "metadata": {},
     "output_type": "execute_result"
    }
   ],
   "source": [
    "my_function(2,4,8)"
   ]
  },
  {
   "cell_type": "markdown",
   "metadata": {},
   "source": [
    "Default values not allowed in lambda values"
   ]
  },
  {
   "cell_type": "markdown",
   "metadata": {},
   "source": [
    "Lecture Problem:Convert function into lambda"
   ]
  },
  {
   "cell_type": "code",
   "execution_count": 6,
   "metadata": {},
   "outputs": [
    {
     "name": "stdout",
     "output_type": "stream",
     "text": [
      "True\n",
      "True\n",
      "True\n",
      "True\n"
     ]
    },
    {
     "data": {
      "text/plain": [
       "True"
      ]
     },
     "execution_count": 6,
     "metadata": {},
     "output_type": "execute_result"
    }
   ],
   "source": [
    "people = ['Dr. Christopher Brooks', 'Dr. Kevyn Collins-Thompson', 'Dr. VG Vinod Vydiswaran', 'Dr. Daniel Romero']\n",
    "\n",
    "def split_title_and_name(person):\n",
    "    return person.split()[0] + ' ' + person.split()[-1]\n",
    "\n",
    "#option 1\n",
    "for person in people:\n",
    "    print(split_title_and_name(person) == (lambda x: x.split()[0] + ' ' + x.split()[-1])(person))\n",
    "\n",
    "#option 2\n",
    "list(map(split_title_and_name, people)) == list(map(lambda person: person.split()[0] + ' ' + person.split()[-1], people))"
   ]
  },
  {
   "cell_type": "markdown",
   "metadata": {},
   "source": [
    "Sequences"
   ]
  },
  {
   "cell_type": "code",
   "execution_count": 8,
   "metadata": {},
   "outputs": [
    {
     "data": {
      "text/plain": [
       "[0,\n",
       " 2,\n",
       " 4,\n",
       " 6,\n",
       " 8,\n",
       " 10,\n",
       " 12,\n",
       " 14,\n",
       " 16,\n",
       " 18,\n",
       " 20,\n",
       " 22,\n",
       " 24,\n",
       " 26,\n",
       " 28,\n",
       " 30,\n",
       " 32,\n",
       " 34,\n",
       " 36,\n",
       " 38,\n",
       " 40,\n",
       " 42,\n",
       " 44,\n",
       " 46,\n",
       " 48,\n",
       " 50,\n",
       " 52,\n",
       " 54,\n",
       " 56,\n",
       " 58,\n",
       " 60,\n",
       " 62,\n",
       " 64,\n",
       " 66,\n",
       " 68,\n",
       " 70,\n",
       " 72,\n",
       " 74,\n",
       " 76,\n",
       " 78,\n",
       " 80,\n",
       " 82,\n",
       " 84,\n",
       " 86,\n",
       " 88,\n",
       " 90,\n",
       " 92,\n",
       " 94,\n",
       " 96,\n",
       " 98]"
      ]
     },
     "execution_count": 8,
     "metadata": {},
     "output_type": "execute_result"
    }
   ],
   "source": [
    "# List comprehension offers readibility and performance benefits\n",
    "my_list = [number for number in range(0,100) if number % 2 == 0]\n",
    "my_list\n"
   ]
  },
  {
   "cell_type": "markdown",
   "metadata": {},
   "source": [
    "Example Problem: Converting function into list comprehension"
   ]
  },
  {
   "cell_type": "code",
   "execution_count": 20,
   "metadata": {},
   "outputs": [
    {
     "data": {
      "text/plain": [
       "True"
      ]
     },
     "execution_count": 20,
     "metadata": {},
     "output_type": "execute_result"
    }
   ],
   "source": [
    "def times_tables():\n",
    "    lst = []\n",
    "    for i in range(10):\n",
    "        for j in range (10):\n",
    "            lst.append(i*j)\n",
    "    return lst\n",
    "lst=[]\n",
    "times_tables() == [i*j for i in range(10) for j in range(10)]"
   ]
  },
  {
   "cell_type": "markdown",
   "metadata": {},
   "source": [
    "Another, tougher question\n",
    "\n",
    "Here’s a harder question which brings a few things together.\n",
    "\n",
    "Many organizations have user ids which are constrained in some way. Imagine you work at an internet service provider and the user ids are all two letters followed by two numbers (e.g. aa49). Your task at such an organization might be to hold a record on the billing activity for each possible user. \n",
    "\n",
    "Write an initialization line as a single list comprehension which creates a list of all possible user ids. Assume the letters are all lower case."
   ]
  },
  {
   "cell_type": "code",
   "execution_count": null,
   "metadata": {},
   "outputs": [],
   "source": [
    "lowercase = 'abcdefghijklmnopqrstuvwxyz'\n",
    "digits = '0123456789'\n",
    "\n",
    "answer = [???]\n",
    "correct_answer == answer"
   ]
  },
  {
   "cell_type": "markdown",
   "metadata": {},
   "source": [
    "Correct answer from Coursera"
   ]
  },
  {
   "cell_type": "code",
   "execution_count": 21,
   "metadata": {},
   "outputs": [
    {
     "data": {
      "text/plain": [
       "['aa00',\n",
       " 'aa01',\n",
       " 'aa02',\n",
       " 'aa03',\n",
       " 'aa04',\n",
       " 'aa05',\n",
       " 'aa06',\n",
       " 'aa07',\n",
       " 'aa08',\n",
       " 'aa09',\n",
       " 'aa10',\n",
       " 'aa11',\n",
       " 'aa12',\n",
       " 'aa13',\n",
       " 'aa14',\n",
       " 'aa15',\n",
       " 'aa16',\n",
       " 'aa17',\n",
       " 'aa18',\n",
       " 'aa19',\n",
       " 'aa20',\n",
       " 'aa21',\n",
       " 'aa22',\n",
       " 'aa23',\n",
       " 'aa24',\n",
       " 'aa25',\n",
       " 'aa26',\n",
       " 'aa27',\n",
       " 'aa28',\n",
       " 'aa29',\n",
       " 'aa30',\n",
       " 'aa31',\n",
       " 'aa32',\n",
       " 'aa33',\n",
       " 'aa34',\n",
       " 'aa35',\n",
       " 'aa36',\n",
       " 'aa37',\n",
       " 'aa38',\n",
       " 'aa39',\n",
       " 'aa40',\n",
       " 'aa41',\n",
       " 'aa42',\n",
       " 'aa43',\n",
       " 'aa44',\n",
       " 'aa45',\n",
       " 'aa46',\n",
       " 'aa47',\n",
       " 'aa48',\n",
       " 'aa49']"
      ]
     },
     "execution_count": 21,
     "metadata": {},
     "output_type": "execute_result"
    }
   ],
   "source": [
    "lowercase = 'abcdefghijklmnopqrstuvwxyz'\n",
    "digits = '0123456789'\n",
    "\n",
    "correct_answer = [a+b+c+d for a in lowercase for b in lowercase \n",
    "                  for c in digits for d in digits]\n",
    "\n",
    "correct_answer[:50] # Display first 50 ids\n"
   ]
  },
  {
   "cell_type": "code",
   "execution_count": null,
   "metadata": {},
   "outputs": [],
   "source": []
  }
 ],
 "metadata": {
  "kernelspec": {
   "display_name": "Python 3",
   "language": "python",
   "name": "python3"
  },
  "language_info": {
   "codemirror_mode": {
    "name": "ipython",
    "version": 3
   },
   "file_extension": ".py",
   "mimetype": "text/x-python",
   "name": "python",
   "nbconvert_exporter": "python",
   "pygments_lexer": "ipython3",
   "version": "3.8.5"
  }
 },
 "nbformat": 4,
 "nbformat_minor": 4
}
