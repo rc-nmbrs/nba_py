{
 "cells": [
  {
   "cell_type": "code",
   "execution_count": 1,
   "metadata": {},
   "outputs": [],
   "source": [
    "import re"
   ]
  },
  {
   "cell_type": "code",
   "execution_count": 2,
   "metadata": {},
   "outputs": [
    {
     "name": "stdout",
     "output_type": "stream",
     "text": [
      "Wonderful\n"
     ]
    }
   ],
   "source": [
    "text = \"This is a gooding day\"\n",
    "\n",
    "# Returns boolean if a string exists as a substring of the string in its entirety\n",
    "# It also creates a search object with a span which displays starting index and ending \n",
    "#index of its first appearance\n",
    "\n",
    "if re.search(\"good\",text):\n",
    "    print(\"Wonderful\")\n",
    "else:\n",
    "    print(\"Alas :()\")"
   ]
  },
  {
   "cell_type": "code",
   "execution_count": 3,
   "metadata": {},
   "outputs": [
    {
     "data": {
      "text/plain": [
       "<re.Match object; span=(10, 14), match='good'>"
      ]
     },
     "execution_count": 3,
     "metadata": {},
     "output_type": "execute_result"
    }
   ],
   "source": [
    "re.search(\"good\",text)"
   ]
  },
  {
   "cell_type": "code",
   "execution_count": 4,
   "metadata": {},
   "outputs": [
    {
     "data": {
      "text/plain": [
       "['',\n",
       " ' works diligently, ',\n",
       " ' gets good grades. our student ',\n",
       " ' is successful']"
      ]
     },
     "execution_count": 4,
     "metadata": {},
     "output_type": "execute_result"
    }
   ],
   "source": [
    "# Segment a string, aka Tokenizing (core activity in natural language processing)\n",
    "# findall() and split()\n",
    "# It creates a list with a substring up to the delimeter input as first parameter\n",
    "text = \"Amy works diligently, Amy gets good grades. our student Amy is successful\"\n",
    "re.split(\"Amy\",text)"
   ]
  },
  {
   "cell_type": "code",
   "execution_count": 5,
   "metadata": {},
   "outputs": [
    {
     "name": "stdout",
     "output_type": "stream",
     "text": [
      "['Amy', 'Amy', 'Amy']\n",
      "3\n"
     ]
    }
   ],
   "source": [
    "# Creates a list with all instances of string passes as first parameter\n",
    "amy_list = re.findall(\"Amy\",text)\n",
    "print(amy_list)\n",
    "print(len(amy_list))"
   ]
  },
  {
   "cell_type": "code",
   "execution_count": 6,
   "metadata": {},
   "outputs": [
    {
     "data": {
      "text/plain": [
       "<re.Match object; span=(0, 3), match='Amy'>"
      ]
     },
     "execution_count": 6,
     "metadata": {},
     "output_type": "execute_result"
    }
   ],
   "source": [
    "# Anchors help specify the location/pattern of the substring we are looking for\n",
    "# ^ character means start, and $ means end\n",
    "# if you want the string to start with the desire substring, ^ must be placed before the string\n",
    "text = \"Amy works diligently, Amy gets good grades. our student Amy is successful\"\n",
    "re.search(\"^Amy\",text)\n"
   ]
  },
  {
   "cell_type": "markdown",
   "metadata": {},
   "source": [
    "# Patterns and Character Classes"
   ]
  },
  {
   "cell_type": "code",
   "execution_count": 7,
   "metadata": {},
   "outputs": [
    {
     "data": {
      "text/plain": [
       "['B', 'B', 'B', 'B']"
      ]
     },
     "execution_count": 7,
     "metadata": {},
     "output_type": "execute_result"
    }
   ],
   "source": [
    "# If we want to know how many B's were in a students history of grades\n",
    "grades = \"ACABAAABCAAAABBCAA\"\n",
    "re.findall(\"B\",grades)"
   ]
  },
  {
   "cell_type": "code",
   "execution_count": 8,
   "metadata": {},
   "outputs": [
    {
     "data": {
      "text/plain": [
       "['A', 'A', 'B', 'A', 'A', 'A', 'B', 'A', 'A', 'A', 'A', 'B', 'B', 'A', 'A']"
      ]
     },
     "execution_count": 8,
     "metadata": {},
     "output_type": "execute_result"
    }
   ],
   "source": [
    "# Counts/lists all the instances of A or B's and adds to list\n",
    "re.findall(\"[AB]\",grades)"
   ]
  },
  {
   "cell_type": "code",
   "execution_count": 9,
   "metadata": {},
   "outputs": [
    {
     "data": {
      "text/plain": [
       "['AC', 'AB', 'AB', 'AB']"
      ]
     },
     "execution_count": 9,
     "metadata": {},
     "output_type": "execute_result"
    }
   ],
   "source": [
    "# Finds all string patters that start with A and is followed by B or C --> AB or AC\n",
    "re.findall(\"[A][B-C]\",grades)"
   ]
  },
  {
   "cell_type": "code",
   "execution_count": 10,
   "metadata": {},
   "outputs": [
    {
     "data": {
      "text/plain": [
       "['AC', 'AB', 'AB', 'AB']"
      ]
     },
     "execution_count": 10,
     "metadata": {},
     "output_type": "execute_result"
    }
   ],
   "source": [
    "# An alternative to the above method\n",
    "re.findall(\"AB|AC\",grades)"
   ]
  },
  {
   "cell_type": "code",
   "execution_count": 11,
   "metadata": {},
   "outputs": [
    {
     "data": {
      "text/plain": [
       "['C', 'B', 'B', 'C', 'B', 'B', 'C']"
      ]
     },
     "execution_count": 11,
     "metadata": {},
     "output_type": "execute_result"
    }
   ],
   "source": [
    "# Any instances which are not A's, the carrot is used for 'not' when placed inside a set operator\n",
    "re.findall(\"[^A]\",grades)"
   ]
  },
  {
   "cell_type": "code",
   "execution_count": 12,
   "metadata": {},
   "outputs": [
    {
     "data": {
      "text/plain": [
       "[]"
      ]
     },
     "execution_count": 12,
     "metadata": {},
     "output_type": "execute_result"
    }
   ],
   "source": [
    "# The reason this is an empty list, is i am specifing the string cant start with an A, and our string starts with an\n",
    "# an A\n",
    "re.findall(\"^[^A]\",grades)"
   ]
  },
  {
   "cell_type": "markdown",
   "metadata": {},
   "source": [
    "# Quantifiers"
   ]
  },
  {
   "cell_type": "code",
   "execution_count": 13,
   "metadata": {},
   "outputs": [],
   "source": [
    "# Quantifiers is the number of times you want a patter to be matched in order to match. The most basic quantifier is expressed\n",
    "# as e{m,n}, where e is the expression or character we are matching, m is the minimum number\n",
    "# of times you want it to matched and n is the maximum number of times the item could be matched"
   ]
  },
  {
   "cell_type": "code",
   "execution_count": null,
   "metadata": {},
   "outputs": [],
   "source": []
  },
  {
   "cell_type": "code",
   "execution_count": 14,
   "metadata": {},
   "outputs": [
    {
     "data": {
      "text/plain": [
       "['AAA', 'AAAA', 'AA']"
      ]
     },
     "execution_count": 14,
     "metadata": {},
     "output_type": "execute_result"
    }
   ],
   "source": [
    "# Streak counting, this can be useful for NBA stats\n",
    "# {<min_streak_value>,<max_streak_value>}\n",
    "re.findall(\"A{2,10}\",grades)"
   ]
  },
  {
   "cell_type": "code",
   "execution_count": 15,
   "metadata": {},
   "outputs": [
    {
     "data": {
      "text/plain": [
       "['AA', 'AA', 'AA', 'AA']"
      ]
     },
     "execution_count": 15,
     "metadata": {},
     "output_type": "execute_result"
    }
   ],
   "source": [
    "# Another way of saying you want to get look for two successive A's\n",
    "re.findall(\"A{1,1}A{1,1}\",grades)"
   ]
  },
  {
   "cell_type": "code",
   "execution_count": 16,
   "metadata": {},
   "outputs": [
    {
     "data": {
      "text/plain": [
       "['AAABC', 'AAAABBC']"
      ]
     },
     "execution_count": 16,
     "metadata": {},
     "output_type": "execute_result"
    }
   ],
   "source": [
    "# Decreasing trends\n",
    "re.findall(\"A{1,10}B{1,10}C{1,10}\",grades)"
   ]
  },
  {
   "cell_type": "code",
   "execution_count": 17,
   "metadata": {},
   "outputs": [
    {
     "data": {
      "text/plain": [
       "['AAA', 'AAA']"
      ]
     },
     "execution_count": 17,
     "metadata": {},
     "output_type": "execute_result"
    }
   ],
   "source": [
    "# You can also pass a single parameter in, and creates a min and max of the single value entered\n",
    "re.findall(\"A{3}\",grades)"
   ]
  },
  {
   "cell_type": "code",
   "execution_count": 18,
   "metadata": {},
   "outputs": [
    {
     "data": {
      "text/plain": [
       "['AAABC', 'AAAABBC']"
      ]
     },
     "execution_count": 18,
     "metadata": {},
     "output_type": "execute_result"
    }
   ],
   "source": [
    "re.findall(\"A{1,10}B{1,10}C{1,10}\",grades)"
   ]
  },
  {
   "cell_type": "markdown",
   "metadata": {},
   "source": [
    "# Groups"
   ]
  },
  {
   "cell_type": "code",
   "execution_count": 19,
   "metadata": {},
   "outputs": [
    {
     "ename": "NameError",
     "evalue": "name 'wiki' is not defined",
     "output_type": "error",
     "traceback": [
      "\u001b[0;31m---------------------------------------------------------------------------\u001b[0m",
      "\u001b[0;31mNameError\u001b[0m                                 Traceback (most recent call last)",
      "\u001b[0;32m<ipython-input-19-35f6fdaa9a96>\u001b[0m in \u001b[0;36m<module>\u001b[0;34m\u001b[0m\n\u001b[1;32m      1\u001b[0m \u001b[0;31m# By adding parantheses, group patterns using parentheses\u001b[0m\u001b[0;34m\u001b[0m\u001b[0;34m\u001b[0m\u001b[0;34m\u001b[0m\u001b[0m\n\u001b[0;32m----> 2\u001b[0;31m \u001b[0mre\u001b[0m\u001b[0;34m.\u001b[0m\u001b[0mfindall\u001b[0m\u001b[0;34m(\u001b[0m\u001b[0;34m\"([\\w ]*)(\\[edit\\])\"\u001b[0m\u001b[0;34m,\u001b[0m\u001b[0mwiki\u001b[0m\u001b[0;34m)\u001b[0m\u001b[0;34m\u001b[0m\u001b[0;34m\u001b[0m\u001b[0m\n\u001b[0m",
      "\u001b[0;31mNameError\u001b[0m: name 'wiki' is not defined"
     ]
    }
   ],
   "source": [
    "# By adding parantheses, group patterns using parentheses\n",
    "re.findall(\"([\\w ]*)(\\[edit\\])\",wiki)"
   ]
  },
  {
   "cell_type": "code",
   "execution_count": null,
   "metadata": {},
   "outputs": [],
   "source": [
    "# re.finditer() # returns tuples of groups"
   ]
  },
  {
   "cell_type": "markdown",
   "metadata": {},
   "source": [
    "# Wine Shop Engineer Position"
   ]
  },
  {
   "cell_type": "code",
   "execution_count": null,
   "metadata": {},
   "outputs": [],
   "source": [
    "# This \n",
    "import re\n",
    "\n",
    "s = \"Welcome to Indonesia\"\n",
    "# Find all instances of any substring equal to a vowel and add to list in order of appearance\n",
    "existing_vowels = re.findall(\"[AEIOU]\",s.upper())\n",
    "vowel_weight = [1,2,3,4,5]\n",
    "vowel_count = {\n",
    "    \"A\":existing_vowels.count(\"A\"),\n",
    "    \"E\":existing_vowels.count(\"E\"),\n",
    "    \"I\":existing_vowels.count(\"I\"),\n",
    "    \"O\":existing_vowels.count(\"O\"),\n",
    "    \"U\":existing_vowels.count(\"U\")\n",
    "    }\n",
    "i = 0\n",
    "sum = 0\n",
    "for key in vowel_count:    \n",
    "    sum = sum + vowel_count[key] * vowel_weight[i]\n",
    "    i +=1\n",
    "print(sum)\n",
    "print(vowel_count)"
   ]
  },
  {
   "cell_type": "code",
   "execution_count": null,
   "metadata": {},
   "outputs": [],
   "source": [
    "s = \"I love to code all day long, as I work and workout odoo laskdfjaodoo\"\n",
    "# An alternative to the above method\n",
    "re.findall(\"odoo|code|work\",s)"
   ]
  },
  {
   "cell_type": "code",
   "execution_count": null,
   "metadata": {},
   "outputs": [],
   "source": [
    "import re\n",
    "s = \"Lets go to work and workout code for coders like us odoo or not todooalksdfsa;l and codecodecode\"\n",
    "substring_list = [\"odoo\",\"code\",\"work\"]\n",
    "matching_words = []\n",
    "def f(s, pat):\n",
    "    pat = r'(\\w*%s\\w*)' % pat\n",
    "    words = re.findall(pat, s)\n",
    "    return words\n",
    "\n",
    "for substring in substring_list:\n",
    "    matching_words.append(f(s,substring))\n",
    "# time to break down the 2D list and filter of words no greater than 9 characters long\n",
    "filtered_words = lambda matching_words: [item for sublist in matching_words for item in sublist if len(item) <= 9]\n",
    "\n",
    "# Shows full 2D list of words with matching substring, however not filtered by character length\n",
    "print(matching_words)\n",
    "# Shows filtered list of all matching words with a filter on length being <= 9\n",
    "# Since all substrings are of length 4, the word cant be less than 4 characters long so I did not filter for that\n",
    "print(filtered_words(matching_words))\n",
    "    "
   ]
  },
  {
   "cell_type": "code",
   "execution_count": 22,
   "metadata": {},
   "outputs": [
    {
     "data": {
      "text/plain": [
       "'Feb 2/12'"
      ]
     },
     "execution_count": 22,
     "metadata": {},
     "output_type": "execute_result"
    }
   ],
   "source": [
    "import re\n",
    "match = re.search(r'(\\w+ \\d+/\\d+)','Feb 2/12 2/34')\n",
    "match.group(1)"
   ]
  },
  {
   "cell_type": "code",
   "execution_count": null,
   "metadata": {},
   "outputs": [],
   "source": []
  }
 ],
 "metadata": {
  "kernelspec": {
   "display_name": "Python 3",
   "language": "python",
   "name": "python3"
  },
  "language_info": {
   "codemirror_mode": {
    "name": "ipython",
    "version": 3
   },
   "file_extension": ".py",
   "mimetype": "text/x-python",
   "name": "python",
   "nbconvert_exporter": "python",
   "pygments_lexer": "ipython3",
   "version": "3.8.5"
  }
 },
 "nbformat": 4,
 "nbformat_minor": 4
}
